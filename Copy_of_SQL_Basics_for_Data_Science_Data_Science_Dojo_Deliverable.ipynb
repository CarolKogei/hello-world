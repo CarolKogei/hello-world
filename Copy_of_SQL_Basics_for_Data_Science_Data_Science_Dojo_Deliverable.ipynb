{
  "nbformat": 4,
  "nbformat_minor": 0,
  "metadata": {
    "colab": {
      "name": "Copy of SQL Basics for Data Science: Data Science Dojo Deliverable ",
      "provenance": [],
      "collapsed_sections": [
        "EC-xadaztZZb",
        "CegoZ0RItxwY",
        "ylHCLsnouGXH",
        "UcO2iuQqtgsb",
        "vdIJCFwIwdKC",
        "EQWoOWiQwyyn",
        "yn9i3BG6xt3W"
      ],
      "include_colab_link": true
    },
    "kernelspec": {
      "name": "python3",
      "display_name": "Python 3"
    }
  },
  "cells": [
    {
      "cell_type": "markdown",
      "metadata": {
        "id": "view-in-github",
        "colab_type": "text"
      },
      "source": [
        "<a href=\"https://colab.research.google.com/github/CarolKogei/hello-world/blob/master/Copy_of_SQL_Basics_for_Data_Science_Data_Science_Dojo_Deliverable.ipynb\" target=\"_parent\"><img src=\"https://colab.research.google.com/assets/colab-badge.svg\" alt=\"Open In Colab\"/></a>"
      ]
    },
    {
      "cell_type": "markdown",
      "metadata": {
        "id": "2YQMPI01tPZI",
        "colab_type": "text"
      },
      "source": [
        "# SQL Basics for Data Science: Data Science Dojo"
      ]
    },
    {
      "cell_type": "markdown",
      "metadata": {
        "id": "EC-xadaztZZb",
        "colab_type": "text"
      },
      "source": [
        "## Practice Project Deliverable \n"
      ]
    },
    {
      "cell_type": "markdown",
      "metadata": {
        "id": "RKVwqBp4tb0f",
        "colab_type": "text"
      },
      "source": [
        "* Your deliverable will be a notebook with your solution. \n"
      ]
    },
    {
      "cell_type": "markdown",
      "metadata": {
        "id": "ugL6e3mbtkDN",
        "colab_type": "text"
      },
      "source": [
        "Shoprity is a retail company that has operations in several African countries. The company focuses on providing retail services to small businesses as well as individual consumers. Recently the company's management is looking at the prospect of expanding the B2B sales and would like to task you as a Data Scientist to gather insights from data that the company has collected then inform them on how the company can increase B2B sales. \n"
      ]
    },
    {
      "cell_type": "markdown",
      "metadata": {
        "id": "b0pmM3WBtnDx",
        "colab_type": "text"
      },
      "source": [
        "To get you started you look at the following questions then later provide your insights in an effort to answer the research question.\n",
        "* Which branch performed had the highest gross income?\n",
        "* Which branch was the top-rated?\n",
        "* Which branch was the lowest-rated?\n",
        "* Should the company spend more costs on advertising to normal clients or clients who are members?\n",
        "* What type of products should the company focus on increasing sales?\n",
        "* What type should they should the company focus on reducing marketing costs?\n",
        "* Should the company invest in their own payments systems if they are outsourcing all payment methods?\n",
        "* Who should the company target most in advertisements?\n"
      ]
    },
    {
      "cell_type": "markdown",
      "metadata": {
        "id": "OnLaJOp4tuXZ",
        "colab_type": "text"
      },
      "source": [
        "Remember: What matters the most is what your insights mean to the business. Make sure to have a section where you elaborate on how your analysis findings tie to your recommendations.\n"
      ]
    },
    {
      "cell_type": "markdown",
      "metadata": {
        "id": "CegoZ0RItxwY",
        "colab_type": "text"
      },
      "source": [
        "## Dataset Information \n"
      ]
    },
    {
      "cell_type": "markdown",
      "metadata": {
        "id": "SI5krZheuAMo",
        "colab_type": "text"
      },
      "source": [
        "You are required to select all the records from the retail dataset using the following credentials, log into the MySQL database accessed via the following URL and credentials.\n"
      ]
    },
    {
      "cell_type": "markdown",
      "metadata": {
        "id": "PgFfNp01uCRL",
        "colab_type": "text"
      },
      "source": [
        "URL = http://159.89.167.145/phpmyadmin/\n",
        "\n",
        "username = learner \n",
        "\n",
        "password = E*3b8km$dpmRLLuf1Rs$"
      ]
    },
    {
      "cell_type": "markdown",
      "metadata": {
        "id": "ylHCLsnouGXH",
        "colab_type": "text"
      },
      "source": [
        "### Context"
      ]
    },
    {
      "cell_type": "markdown",
      "metadata": {
        "id": "cDTBAc3EuJZb",
        "colab_type": "text"
      },
      "source": [
        "The growth of retail supermarkets in most populated cities are increasing and market competitions are also high. The dataset is one of the historical sales of supermarket company which has recorded in 3 different branches for 3 months data. Predictive data analytics methods are easy to apply with this dataset.\n"
      ]
    },
    {
      "cell_type": "markdown",
      "metadata": {
        "id": "-JuuElqpuLz2",
        "colab_type": "text"
      },
      "source": [
        "Attribute information\n",
        "* Invoice id: Computer generated sales slip invoice identification number\n",
        "* Date: Date of purchase (Record available from January 2019 to March 2019)\n",
        "* Time: Purchase time (10 am to 9 pm)\n",
        "Branch: Branch of supercenter (3 branches are available identified by a, b and c).\n",
        "* City: Location of supercenters\n",
        "* Customer type: Type of customers, recorded by Members for customers using member card and Normal for without member card.\n",
        "* Gender: Gender type of customer\n",
        "Product line: General item categorization groups - \n",
        "* Electronic accessories, Fashion accessories, Food and beverages, Health and beauty, Home and Lifestyle, Sports and travel\n",
        "* Unit price: Price of each product in $\n",
        "* Quantity: Number of products purchased by the customer\n",
        "* Tax: 5% tax fee for customer buying\n",
        "* Total: Total price including tax\n",
        "* Payment: Payment used by the customer for the purchase (3 methods are available – Cash, Debit Card and Mobile money)\n",
        "* COGS: Cost of goods sold (USD)\n",
        "* Gross margin percentage: Gross margin percentage\n",
        "* Gross income: Gross income (USD)\n",
        "* Rating: Customer stratification rating on their overall shopping experience (On a scale of 1 to 10)\n"
      ]
    },
    {
      "cell_type": "markdown",
      "metadata": {
        "id": "n_-8vvUluh3h",
        "colab_type": "text"
      },
      "source": [
        "Project Source: [[Link]('https://www.kaggle.com/mahmoudeletrby/supermarket?')]"
      ]
    },
    {
      "cell_type": "markdown",
      "metadata": {
        "id": "UcO2iuQqtgsb",
        "colab_type": "text"
      },
      "source": [
        "## Step 1. Importing Required Libraries"
      ]
    },
    {
      "cell_type": "code",
      "metadata": {
        "id": "gDqs0vZDsmZc",
        "colab_type": "code",
        "colab": {
          "base_uri": "https://localhost:8080/",
          "height": 35
        },
        "outputId": "c50c2789-4a30-4319-883d-8439ce856377"
      },
      "source": [
        "# Importing pandas\n",
        "import pandas as pd\n",
        "\n",
        "# Loading SQL extension\n",
        "%load_ext sql\n",
        "\n",
        "# Connecting sqlite database\n",
        "%sql sqlite://"
      ],
      "execution_count": 7,
      "outputs": [
        {
          "output_type": "execute_result",
          "data": {
            "application/vnd.google.colaboratory.intrinsic": {
              "type": "string"
            },
            "text/plain": [
              "'Connected: @None'"
            ]
          },
          "metadata": {
            "tags": []
          },
          "execution_count": 7
        }
      ]
    },
    {
      "cell_type": "markdown",
      "metadata": {
        "id": "vdIJCFwIwdKC",
        "colab_type": "text"
      },
      "source": [
        "## Step 2. Importing our Dataset"
      ]
    },
    {
      "cell_type": "code",
      "metadata": {
        "id": "sv4V_dsXwwjA",
        "colab_type": "code",
        "colab": {
          "base_uri": "https://localhost:8080/",
          "height": 88
        },
        "outputId": "2e20d536-d1da-47d1-845e-39761d1e4a71"
      },
      "source": [
        "# Example \n",
        "# ---\n",
        "# We load our first dataset from a csv file as shown and afterwards, \n",
        "# we then store the dataset in our in memory sqlite database.\n",
        "# We first read our dataset from its source and store it in a dataframe called cities.\n",
        "# From there we then resume to performing our analysis with sql.\n",
        "# ---\n",
        "#\n",
        "retail = pd.read_csv('supermarket.csv') \n",
        "\n",
        "# Then store it in an SQL table of our in memory sqlite database \n",
        "# --- \n",
        "# \n",
        "\n",
        "# We then delete the table if it exists in our database\n",
        "# ---\n",
        "#\n",
        "%sql DROP TABLE if EXISTS retail;\n",
        "\n",
        "# And finally store our table in table name cities within our dataset.\n",
        "# The persist command will create a table in the database to which we are connected, \n",
        "# the table name will be the same as dataframe variable.\n",
        "# ---\n",
        "#\n",
        "%sql PERSIST retail;"
      ],
      "execution_count": 9,
      "outputs": [
        {
          "output_type": "stream",
          "text": [
            " * sqlite://\n",
            "Done.\n",
            " * sqlite://\n"
          ],
          "name": "stdout"
        },
        {
          "output_type": "execute_result",
          "data": {
            "application/vnd.google.colaboratory.intrinsic": {
              "type": "string"
            },
            "text/plain": [
              "'Persisted retail'"
            ]
          },
          "metadata": {
            "tags": []
          },
          "execution_count": 9
        }
      ]
    },
    {
      "cell_type": "code",
      "metadata": {
        "id": "G5m7HQFuzAGF",
        "colab_type": "code",
        "colab": {
          "base_uri": "https://localhost:8080/",
          "height": 160
        },
        "outputId": "a7a9c659-4a1e-4d9c-ccb7-c7fc33660b95"
      },
      "source": [
        "# We can then continue to check the records in our dataset by \n",
        "# using the following command. This will check for the first five records.\n",
        "# ---\n",
        "%%sql select * from retail\n",
        "limit 5;\n"
      ],
      "execution_count": 17,
      "outputs": [
        {
          "output_type": "stream",
          "text": [
            " * sqlite://\n",
            "Done.\n"
          ],
          "name": "stdout"
        },
        {
          "output_type": "execute_result",
          "data": {
            "text/html": [
              "<table>\n",
              "    <tr>\n",
              "        <th>index</th>\n",
              "        <th>invoiceID</th>\n",
              "        <th>branch</th>\n",
              "        <th>city</th>\n",
              "        <th>cust_type</th>\n",
              "        <th>gender</th>\n",
              "        <th>type</th>\n",
              "        <th>unit_price</th>\n",
              "        <th>quantity</th>\n",
              "        <th>date</th>\n",
              "        <th>time</th>\n",
              "        <th>payment</th>\n",
              "        <th>cost</th>\n",
              "        <th>gross income</th>\n",
              "        <th>rating</th>\n",
              "    </tr>\n",
              "    <tr>\n",
              "        <td>0</td>\n",
              "        <td>101-17-6199</td>\n",
              "        <td>A</td>\n",
              "        <td>Cairo</td>\n",
              "        <td>Normal</td>\n",
              "        <td>Male</td>\n",
              "        <td>Food and beverages</td>\n",
              "        <td>45.79</td>\n",
              "        <td>7</td>\n",
              "        <td>13/03/2019</td>\n",
              "        <td>19:44</td>\n",
              "        <td>Credit card</td>\n",
              "        <td>320.53</td>\n",
              "        <td>16.0265</td>\n",
              "        <td>7.0</td>\n",
              "    </tr>\n",
              "    <tr>\n",
              "        <td>1</td>\n",
              "        <td>101-81-4070</td>\n",
              "        <td>C</td>\n",
              "        <td>Alexandria</td>\n",
              "        <td>Member</td>\n",
              "        <td>Female</td>\n",
              "        <td>Health and beauty</td>\n",
              "        <td>62.82</td>\n",
              "        <td>2</td>\n",
              "        <td>17/01/2019</td>\n",
              "        <td>12:36</td>\n",
              "        <td>eWallet</td>\n",
              "        <td>125.64</td>\n",
              "        <td>6.282</td>\n",
              "        <td>4.9</td>\n",
              "    </tr>\n",
              "    <tr>\n",
              "        <td>2</td>\n",
              "        <td>102-06-2002</td>\n",
              "        <td>C</td>\n",
              "        <td>Alexandria</td>\n",
              "        <td>Member</td>\n",
              "        <td>Male</td>\n",
              "        <td>Sports and travel</td>\n",
              "        <td>25.25</td>\n",
              "        <td>5</td>\n",
              "        <td>20/03/2019</td>\n",
              "        <td>17:52</td>\n",
              "        <td>Cash</td>\n",
              "        <td>126.25</td>\n",
              "        <td>6.3125</td>\n",
              "        <td>6.1</td>\n",
              "    </tr>\n",
              "    <tr>\n",
              "        <td>3</td>\n",
              "        <td>102-77-2261</td>\n",
              "        <td>C</td>\n",
              "        <td>Alexandria</td>\n",
              "        <td>Member</td>\n",
              "        <td>Male</td>\n",
              "        <td>Health and beauty</td>\n",
              "        <td>65.31</td>\n",
              "        <td>7</td>\n",
              "        <td>05/03/2019</td>\n",
              "        <td>18:02</td>\n",
              "        <td>Credit card</td>\n",
              "        <td>457.17</td>\n",
              "        <td>22.8585</td>\n",
              "        <td>4.2</td>\n",
              "    </tr>\n",
              "    <tr>\n",
              "        <td>4</td>\n",
              "        <td>105-10-6182</td>\n",
              "        <td>A</td>\n",
              "        <td>Cairo</td>\n",
              "        <td>Member</td>\n",
              "        <td>Male</td>\n",
              "        <td>Fashion accessories</td>\n",
              "        <td>21.48</td>\n",
              "        <td>2</td>\n",
              "        <td>27/02/2019</td>\n",
              "        <td>12:22</td>\n",
              "        <td>eWallet</td>\n",
              "        <td>42.96</td>\n",
              "        <td>2.148</td>\n",
              "        <td>6.6</td>\n",
              "    </tr>\n",
              "</table>"
            ],
            "text/plain": [
              "[(0, '101-17-6199', 'A', 'Cairo', 'Normal', 'Male', 'Food and beverages', 45.79, 7, '13/03/2019', '19:44', 'Credit card', 320.53, 16.0265, 7.0),\n",
              " (1, '101-81-4070', 'C', 'Alexandria', 'Member', 'Female', 'Health and beauty', 62.82, 2, '17/01/2019', '12:36', 'eWallet', 125.64, 6.282, 4.9),\n",
              " (2, '102-06-2002', 'C', 'Alexandria', 'Member', 'Male', 'Sports and travel', 25.25, 5, '20/03/2019', '17:52', 'Cash', 126.25, 6.3125, 6.1),\n",
              " (3, '102-77-2261', 'C', 'Alexandria', 'Member', 'Male', 'Health and beauty', 65.31, 7, '05/03/2019', '18:02', 'Credit card', 457.17, 22.8585, 4.2),\n",
              " (4, '105-10-6182', 'A', 'Cairo', 'Member', 'Male', 'Fashion accessories', 21.48, 2, '27/02/2019', '12:22', 'eWallet', 42.96, 2.148, 6.6)]"
            ]
          },
          "metadata": {
            "tags": []
          },
          "execution_count": 17
        }
      ]
    },
    {
      "cell_type": "markdown",
      "metadata": {
        "id": "EQWoOWiQwyyn",
        "colab_type": "text"
      },
      "source": [
        "## Step 3. Questions"
      ]
    },
    {
      "cell_type": "markdown",
      "metadata": {
        "id": "zFwN26YCw3MC",
        "colab_type": "text"
      },
      "source": [
        "**1. Which branch had the highest gross income?**"
      ]
    },
    {
      "cell_type": "code",
      "metadata": {
        "id": "Q8SEcpAPw21W",
        "colab_type": "code",
        "colab": {
          "base_uri": "https://localhost:8080/",
          "height": 124
        },
        "outputId": "a0432cfd-e69b-4299-acec-51acdbfdf610"
      },
      "source": [
        "# We use the sum() function and \"as\" to rename specified colum\n",
        "# We also wrap the column \"gross income\" with quotes since it has spaces in between\n",
        "%%sql \n",
        "select branch, sum(\"gross income\") as \"gross income\"\n",
        "from retail\n",
        "group by branch\n",
        "order by \"gross income\" desc\n",
        "limit 5;"
      ],
      "execution_count": 10,
      "outputs": [
        {
          "output_type": "stream",
          "text": [
            " * sqlite://\n",
            "Done.\n"
          ],
          "name": "stdout"
        },
        {
          "output_type": "execute_result",
          "data": {
            "text/html": [
              "<table>\n",
              "    <tr>\n",
              "        <th>branch</th>\n",
              "        <th>gross income</th>\n",
              "    </tr>\n",
              "    <tr>\n",
              "        <td>C</td>\n",
              "        <td>5265.1765000000005</td>\n",
              "    </tr>\n",
              "    <tr>\n",
              "        <td>A</td>\n",
              "        <td>5057.160500000004</td>\n",
              "    </tr>\n",
              "    <tr>\n",
              "        <td>B</td>\n",
              "        <td>5057.032000000009</td>\n",
              "    </tr>\n",
              "</table>"
            ],
            "text/plain": [
              "[('C', 5265.1765000000005), ('A', 5057.160500000004), ('B', 5057.032000000009)]"
            ]
          },
          "metadata": {
            "tags": []
          },
          "execution_count": 10
        }
      ]
    },
    {
      "cell_type": "markdown",
      "metadata": {
        "id": "lt32s_LK29ca",
        "colab_type": "text"
      },
      "source": [
        "`Branch C` had the highest gross income of `$ 5,265.17` followed by `Branch A` and `B` with gross income of `$ 5057.16` and `$ 5057.03` respectively."
      ]
    },
    {
      "cell_type": "markdown",
      "metadata": {
        "id": "nTq7WhiWxAgm",
        "colab_type": "text"
      },
      "source": [
        "**2. Which branch was the highest-rated?**"
      ]
    },
    {
      "cell_type": "code",
      "metadata": {
        "id": "Hi7X-fc6xIXM",
        "colab_type": "code",
        "colab": {
          "base_uri": "https://localhost:8080/",
          "height": 124
        },
        "outputId": "6088b151-6971-454a-fbef-fc7b1358ad52"
      },
      "source": [
        "%%sql\n",
        "select branch , avg(\"rating\") as rating\n",
        "from retail\n",
        "group by branch\n",
        "order by \"rating\" desc\n",
        "limit 5;"
      ],
      "execution_count": 11,
      "outputs": [
        {
          "output_type": "stream",
          "text": [
            " * sqlite://\n",
            "Done.\n"
          ],
          "name": "stdout"
        },
        {
          "output_type": "execute_result",
          "data": {
            "text/html": [
              "<table>\n",
              "    <tr>\n",
              "        <th>branch</th>\n",
              "        <th>rating</th>\n",
              "    </tr>\n",
              "    <tr>\n",
              "        <td>C</td>\n",
              "        <td>7.072865853658538</td>\n",
              "    </tr>\n",
              "    <tr>\n",
              "        <td>A</td>\n",
              "        <td>7.027058823529416</td>\n",
              "    </tr>\n",
              "    <tr>\n",
              "        <td>B</td>\n",
              "        <td>6.8180722891566266</td>\n",
              "    </tr>\n",
              "</table>"
            ],
            "text/plain": [
              "[('C', 7.072865853658538), ('A', 7.027058823529416), ('B', 6.8180722891566266)]"
            ]
          },
          "metadata": {
            "tags": []
          },
          "execution_count": 11
        }
      ]
    },
    {
      "cell_type": "markdown",
      "metadata": {
        "id": "jeRtQrg64dXL",
        "colab_type": "text"
      },
      "source": [
        "Branch C was the highest rated with a rating of 7.07, while Branch A and B had a rating of 7.03 and 6.82 respectively."
      ]
    },
    {
      "cell_type": "markdown",
      "metadata": {
        "id": "AQNTCdCRxIx6",
        "colab_type": "text"
      },
      "source": [
        "**3. Which branch was the lowest-rated?**"
      ]
    },
    {
      "cell_type": "code",
      "metadata": {
        "id": "2WfOXe03xMfA",
        "colab_type": "code",
        "colab": {
          "base_uri": "https://localhost:8080/",
          "height": 124
        },
        "outputId": "1a1a598a-0ebd-4358-ec32-5789ea35e84f"
      },
      "source": [
        "%%sql select branch, avg(\"rating\") as rating\n",
        "from retail\n",
        "group by branch\n",
        "order by \"rating\" asc\n",
        "limit 5;\n"
      ],
      "execution_count": 13,
      "outputs": [
        {
          "output_type": "stream",
          "text": [
            " * sqlite://\n",
            "Done.\n"
          ],
          "name": "stdout"
        },
        {
          "output_type": "execute_result",
          "data": {
            "text/html": [
              "<table>\n",
              "    <tr>\n",
              "        <th>branch</th>\n",
              "        <th>rating</th>\n",
              "    </tr>\n",
              "    <tr>\n",
              "        <td>B</td>\n",
              "        <td>6.8180722891566266</td>\n",
              "    </tr>\n",
              "    <tr>\n",
              "        <td>A</td>\n",
              "        <td>7.027058823529416</td>\n",
              "    </tr>\n",
              "    <tr>\n",
              "        <td>C</td>\n",
              "        <td>7.072865853658538</td>\n",
              "    </tr>\n",
              "</table>"
            ],
            "text/plain": [
              "[('B', 6.8180722891566266), ('A', 7.027058823529416), ('C', 7.072865853658538)]"
            ]
          },
          "metadata": {
            "tags": []
          },
          "execution_count": 13
        }
      ]
    },
    {
      "cell_type": "markdown",
      "metadata": {
        "id": "fkLMK9Mz45Om",
        "colab_type": "text"
      },
      "source": [
        "Branch B was the lowest rated with a rating of 6.82, while Branch A and C had a rating of 7.03 and 7.07 respectively."
      ]
    },
    {
      "cell_type": "markdown",
      "metadata": {
        "id": "MP2YV_wLxN8C",
        "colab_type": "text"
      },
      "source": [
        "**4. Should the company spend more costs on advertising to normal clients or clients who are members?**"
      ]
    },
    {
      "cell_type": "markdown",
      "metadata": {
        "id": "ihU2VRsG6JAq",
        "colab_type": "text"
      },
      "source": [
        "We can decide to compare the gross income of both types of clients/customers."
      ]
    },
    {
      "cell_type": "code",
      "metadata": {
        "id": "OTdC6KQtxRzx",
        "colab_type": "code",
        "colab": {
          "base_uri": "https://localhost:8080/",
          "height": 106
        },
        "outputId": "12476133-1b2e-4c81-97b5-638ac1376b76"
      },
      "source": [
        "%%sql select cust_type, sum(\"gross income\") as \"gross income\"\n",
        "from retail\n",
        "group by cust_type"
      ],
      "execution_count": 24,
      "outputs": [
        {
          "output_type": "stream",
          "text": [
            " * sqlite://\n",
            "Done.\n"
          ],
          "name": "stdout"
        },
        {
          "output_type": "execute_result",
          "data": {
            "text/html": [
              "<table>\n",
              "    <tr>\n",
              "        <th>cust_type</th>\n",
              "        <th>gross income</th>\n",
              "    </tr>\n",
              "    <tr>\n",
              "        <td>Member</td>\n",
              "        <td>7820.164000000002</td>\n",
              "    </tr>\n",
              "    <tr>\n",
              "        <td>Normal</td>\n",
              "        <td>7559.205000000009</td>\n",
              "    </tr>\n",
              "</table>"
            ],
            "text/plain": [
              "[('Member', 7820.164000000002), ('Normal', 7559.205000000009)]"
            ]
          },
          "metadata": {
            "tags": []
          },
          "execution_count": 24
        }
      ]
    },
    {
      "cell_type": "markdown",
      "metadata": {
        "id": "Np4vawNc6pde",
        "colab_type": "text"
      },
      "source": [
        "From our outcome, we can note that member clients' gross income is higher than the normal clients' gross income, thus resolve that we could target more of clients who are members if the advertisment costs and other factors are held constant."
      ]
    },
    {
      "cell_type": "markdown",
      "metadata": {
        "id": "MEV4mRtrxU-J",
        "colab_type": "text"
      },
      "source": [
        "**5. What type of products should the company focus on increasing marketing sales?**"
      ]
    },
    {
      "cell_type": "markdown",
      "metadata": {
        "id": "2_oQj3Y88wXb",
        "colab_type": "text"
      },
      "source": [
        "We can resolve to answer this question by looking looking at the gross income of the different types of products."
      ]
    },
    {
      "cell_type": "code",
      "metadata": {
        "id": "hxZe-52VxZWQ",
        "colab_type": "code",
        "colab": {
          "base_uri": "https://localhost:8080/",
          "height": 177
        },
        "outputId": "42c2c858-66aa-4506-8632-b3cff3255c88"
      },
      "source": [
        "# We wrap the keyword type with quotes \"\" since type is a reserved word\n",
        "%%sql select \"type\", sum(\"gross income\") as \"gross income\"\n",
        "from retail\n",
        "group by \"type\"\n",
        "order by \"gross income\" desc\n"
      ],
      "execution_count": 31,
      "outputs": [
        {
          "output_type": "stream",
          "text": [
            " * sqlite://\n",
            "Done.\n"
          ],
          "name": "stdout"
        },
        {
          "output_type": "execute_result",
          "data": {
            "text/html": [
              "<table>\n",
              "    <tr>\n",
              "        <th>type</th>\n",
              "        <th>gross income</th>\n",
              "    </tr>\n",
              "    <tr>\n",
              "        <td>Food and beverages</td>\n",
              "        <td>2673.5640000000008</td>\n",
              "    </tr>\n",
              "    <tr>\n",
              "        <td>Sports and travel</td>\n",
              "        <td>2624.8964999999994</td>\n",
              "    </tr>\n",
              "    <tr>\n",
              "        <td>Electronic accessories</td>\n",
              "        <td>2587.5015000000003</td>\n",
              "    </tr>\n",
              "    <tr>\n",
              "        <td>Fashion accessories</td>\n",
              "        <td>2585.994999999999</td>\n",
              "    </tr>\n",
              "    <tr>\n",
              "        <td>Home and lifestyle</td>\n",
              "        <td>2564.8530000000014</td>\n",
              "    </tr>\n",
              "    <tr>\n",
              "        <td>Health and beauty</td>\n",
              "        <td>2342.559</td>\n",
              "    </tr>\n",
              "</table>"
            ],
            "text/plain": [
              "[('Food and beverages', 2673.5640000000008),\n",
              " ('Sports and travel', 2624.8964999999994),\n",
              " ('Electronic accessories', 2587.5015000000003),\n",
              " ('Fashion accessories', 2585.994999999999),\n",
              " ('Home and lifestyle', 2564.8530000000014),\n",
              " ('Health and beauty', 2342.559)]"
            ]
          },
          "metadata": {
            "tags": []
          },
          "execution_count": 31
        }
      ]
    },
    {
      "cell_type": "markdown",
      "metadata": {
        "id": "Q5-eD7Bv-HRU",
        "colab_type": "text"
      },
      "source": [
        "An increase in marketing sales should happen for food and beverages since they contribute the most to the gross income."
      ]
    },
    {
      "cell_type": "markdown",
      "metadata": {
        "id": "OYvXsEJyxbAC",
        "colab_type": "text"
      },
      "source": [
        "**6. What type of products should they should the company focus on reducing marketing costs?**"
      ]
    },
    {
      "cell_type": "markdown",
      "metadata": {
        "id": "U0A0PTvx-5TJ",
        "colab_type": "text"
      },
      "source": [
        "We decide to investigate the types of products which have the lowest gross income."
      ]
    },
    {
      "cell_type": "code",
      "metadata": {
        "id": "jvpTAOcXxcdL",
        "colab_type": "code",
        "colab": {
          "base_uri": "https://localhost:8080/",
          "height": 177
        },
        "outputId": "95421cc0-9dc0-4d82-b1d2-ba0af5e5c67b"
      },
      "source": [
        "# We wrap the keyword type with quotes \"\" since type is a reserved word\n",
        "%%sql select \"type\", sum(\"gross income\") as \"gross income\"\n",
        "from retail\n",
        "group by \"type\"\n",
        "order by \"gross income\" asc\n"
      ],
      "execution_count": 32,
      "outputs": [
        {
          "output_type": "stream",
          "text": [
            " * sqlite://\n",
            "Done.\n"
          ],
          "name": "stdout"
        },
        {
          "output_type": "execute_result",
          "data": {
            "text/html": [
              "<table>\n",
              "    <tr>\n",
              "        <th>type</th>\n",
              "        <th>gross income</th>\n",
              "    </tr>\n",
              "    <tr>\n",
              "        <td>Health and beauty</td>\n",
              "        <td>2342.559</td>\n",
              "    </tr>\n",
              "    <tr>\n",
              "        <td>Home and lifestyle</td>\n",
              "        <td>2564.8530000000014</td>\n",
              "    </tr>\n",
              "    <tr>\n",
              "        <td>Fashion accessories</td>\n",
              "        <td>2585.994999999999</td>\n",
              "    </tr>\n",
              "    <tr>\n",
              "        <td>Electronic accessories</td>\n",
              "        <td>2587.5015000000003</td>\n",
              "    </tr>\n",
              "    <tr>\n",
              "        <td>Sports and travel</td>\n",
              "        <td>2624.8964999999994</td>\n",
              "    </tr>\n",
              "    <tr>\n",
              "        <td>Food and beverages</td>\n",
              "        <td>2673.5640000000008</td>\n",
              "    </tr>\n",
              "</table>"
            ],
            "text/plain": [
              "[('Health and beauty', 2342.559),\n",
              " ('Home and lifestyle', 2564.8530000000014),\n",
              " ('Fashion accessories', 2585.994999999999),\n",
              " ('Electronic accessories', 2587.5015000000003),\n",
              " ('Sports and travel', 2624.8964999999994),\n",
              " ('Food and beverages', 2673.5640000000008)]"
            ]
          },
          "metadata": {
            "tags": []
          },
          "execution_count": 32
        }
      ]
    },
    {
      "cell_type": "markdown",
      "metadata": {
        "id": "xRWcyRaj-4oC",
        "colab_type": "text"
      },
      "source": [
        "Because health and beauty contribute least, we can look at the possiblity of stopping to reducing marketing costs for those products. However, still that wouldn't be a recommendation because those products still significantly contribute to the gross income of the retail."
      ]
    },
    {
      "cell_type": "markdown",
      "metadata": {
        "id": "yn9i3BG6xt3W",
        "colab_type": "text"
      },
      "source": [
        "## Step 4. Recommendations"
      ]
    },
    {
      "cell_type": "markdown",
      "metadata": {
        "id": "8VgTz2HsGo0p",
        "colab_type": "text"
      },
      "source": [
        "The company's management is looking at the prospect of expanding the B2B sales and would like to be informed on the best strategy to increase B2B sales. \n",
        "\n",
        "Based on the analysis done, we were able to arrive at the following recommendations:\n",
        "\n",
        "* **Recommendation 1:** The company should consider optimizing the sales process for `Branch C` as it had the highest gross income of `$ 5,265.17` followed by `Branch A` and `C` with gross income of `$ 5057.16` and `$ 5057.03` respectively. \n",
        "\n",
        "* **Recommendation 2** To expand B2B, sales cain be increased through improving service delivery in `Branch B` resulting to better customer satisfaction & ratings.\n",
        "* **Recommendation 3** Since member clients are leading in the company's gross income, more advertisement should be channeled to normal clients to build a wider customer base of non-members hence more income.\n"
      ]
    }
  ]
}